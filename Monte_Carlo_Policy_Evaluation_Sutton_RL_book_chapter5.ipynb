{
 "cells": [
  {
   "cell_type": "markdown",
   "metadata": {},
   "source": [
    "This notebook is about the Monte-Carlo methods for policy evaluation (first-visit and every-visit), as described in Sutton's Reinforcement Learning book, 2nd edition, page 76."
   ]
  },
  {
   "cell_type": "code",
   "execution_count": 21,
   "metadata": {},
   "outputs": [],
   "source": [
    "import time\n",
    "\n",
    "import matplotlib.pyplot as plt\n",
    "\n",
    "from baserl.common import *\n",
    "from baserl.monte_carlo import *"
   ]
  },
  {
   "cell_type": "code",
   "execution_count": 22,
   "metadata": {},
   "outputs": [],
   "source": [
    "import time\n",
    "\n",
    "import matplotlib.pyplot as plt\n",
    "\n",
    "from baserl.common import *\n",
    "from baserl.monte_carlo import *"
   ]
  },
  {
   "cell_type": "code",
   "execution_count": 23,
   "metadata": {},
   "outputs": [],
   "source": [
    "%matplotlib inline"
   ]
  },
  {
   "cell_type": "code",
   "execution_count": 24,
   "metadata": {},
   "outputs": [],
   "source": [
    "from baserl.grid_world import GridWorld\n",
    "mdp = GridWorld()\n",
    "episode_generator = ModelBasedEpisodeGenerator(mdp.states(), mdp.is_terminal, mdp.actions,\n",
    "                                               mdp.transitions, \n",
    "                                               max_episode_len=100,\n",
    "                                               fixed_start_state=None,\n",
    "                                               with_exploring_starts=False,\n",
    "                                               verbose=False)"
   ]
  },
  {
   "cell_type": "code",
   "execution_count": 25,
   "metadata": {},
   "outputs": [
    {
     "name": "stdout",
     "output_type": "stream",
     "text": [
      "14 [((0, 3), 'R', -1), ((0, 3), 'D', -1), ((1, 3), 'D', -1), ((2, 3), 'R', -1), ((2, 3), 'U', -1), ((1, 3), 'L', -1), ((1, 2), 'L', -1), ((1, 1), 'R', -1), ((1, 2), 'U', -1), ((0, 2), 'R', -1), ((0, 3), 'L', -1), ((0, 2), 'L', -1), ((0, 1), 'U', -1), ((0, 1), 'L', -1)]\n"
     ]
    }
   ],
   "source": [
    "episode = episode_generator.generate(make_random_policy(mdp.states(), mdp.actions))\n",
    "print (len(episode), episode)"
   ]
  },
  {
   "cell_type": "code",
   "execution_count": 26,
   "metadata": {},
   "outputs": [],
   "source": [
    "# Compare with ideal value function, plot RMSE vs #episodes\n",
    "def compare_v_mse(ideal_v, actual_v):\n",
    "    sum_diffs = 0.0\n",
    "    num = 0\n",
    "    for k, val in ideal_v.items():\n",
    "        sum_diffs += (val - actual_v[k]) ** 2\n",
    "        num += 1\n",
    "    return sum_diffs / num\n",
    "\n",
    "# We know the ideal Value Function for the Grid World - this is mentioned in the end of Figure 4.1, page 62 of\n",
    "# Sutton's RL book. It can also be computed by running Iterative Policy Evaluation from chapter 4 for a longer time.\n",
    "ideal_v_mat = [\n",
    "[  0, -14, -20, -22], \n",
    "[-14, -18, -20, -20], \n",
    "[-20, -20, -18, -14], \n",
    "[-22, -20, -14,   0]\n",
    "]\n",
    "ideal_v = {}\n",
    "for x in range(len(ideal_v_mat)):\n",
    "    for y in range(len(ideal_v_mat[0])):\n",
    "        ideal_v[(x, y)] = ideal_v_mat[x][y]"
   ]
  },
  {
   "cell_type": "code",
   "execution_count": 27,
   "metadata": {},
   "outputs": [
    {
     "name": "stdout",
     "output_type": "stream",
     "text": [
      "0.020024538040161133\n"
     ]
    }
   ],
   "source": [
    "# First-visit\n",
    "policy = make_random_policy(mdp.states(), mdp.actions)\n",
    "start_time = time.time()\n",
    "v_history = []\n",
    "v = monte_carlo_policy_evaluation(every_visit=False,\n",
    "                                  policy=policy,\n",
    "                                  gamma=mdp.gamma(),\n",
    "                                  episode_generator=episode_generator,\n",
    "                                  num_episodes=100,\n",
    "                                  verbose=False,\n",
    "                                  v_history=v_history)\n",
    "print(time.time() - start_time)"
   ]
  },
  {
   "cell_type": "code",
   "execution_count": 28,
   "metadata": {},
   "outputs": [
    {
     "data": {
      "text/plain": [
       "[<matplotlib.lines.Line2D at 0x25feccdbc18>]"
      ]
     },
     "execution_count": 28,
     "metadata": {},
     "output_type": "execute_result"
    },
    {
     "data": {
      "image/png": "[encoded data removed]",
      "text/plain": [
       "<matplotlib.figure.Figure at 0x25fecc70588>"
      ]
     },
     "metadata": {},
     "output_type": "display_data"
    }
   ],
   "source": [
    "# Comparing the value function at each step of the First-Visit algorithm, with the ideal value function.\n",
    "plt.plot([compare_v_mse(ideal_v, actual_v) for actual_v in v_history])"
   ]
  },
  {
   "cell_type": "code",
   "execution_count": 29,
   "metadata": {},
   "outputs": [
    {
     "name": "stdout",
     "output_type": "stream",
     "text": [
      "  0.00  -9.04 -14.89 -19.41 \n",
      "-15.71 -16.22 -18.46 -19.07 \n",
      "-15.34 -14.69 -15.61 -14.47 \n",
      "-19.44 -16.97 -10.89   0.00 \n"
     ]
    }
   ],
   "source": [
    "mdp.print_value(v)"
   ]
  },
  {
   "cell_type": "code",
   "execution_count": 30,
   "metadata": {},
   "outputs": [
    {
     "name": "stdout",
     "output_type": "stream",
     "text": [
      "  UL    L    L    L \n",
      "   U    U    U    D \n",
      "   R    L    D    D \n",
      "   U    R    R   DR \n"
     ]
    }
   ],
   "source": [
    "greedy_policy_from_v = make_greeedy_policy_from_v(v, mdp.states(), mdp.actions, mdp.transitions, mdp.gamma())\n",
    "mdp.print_policy(greedy_policy_from_v)"
   ]
  },
  {
   "cell_type": "code",
   "execution_count": 31,
   "metadata": {},
   "outputs": [
    {
     "name": "stdout",
     "output_type": "stream",
     "text": [
      "0.03208279609680176\n"
     ]
    }
   ],
   "source": [
    "# Every visit\n",
    "policy = make_random_policy(mdp.states(), mdp.actions)\n",
    "start_time = time.time()\n",
    "v_history = []\n",
    "v = monte_carlo_policy_evaluation(every_visit=True,\n",
    "                                  policy=policy,\n",
    "                                  gamma=mdp.gamma(),\n",
    "                                  episode_generator=episode_generator,\n",
    "                                  num_episodes=100,\n",
    "                                  verbose=False,\n",
    "                                  v_history=v_history)\n",
    "print(time.time() - start_time)"
   ]
  },
  {
   "cell_type": "code",
   "execution_count": 32,
   "metadata": {},
   "outputs": [
    {
     "data": {
      "text/plain": [
       "[<matplotlib.lines.Line2D at 0x25fedd0c828>]"
      ]
     },
     "execution_count": 32,
     "metadata": {},
     "output_type": "execute_result"
    },
    {
     "data": {
      "image/png": "[encoded data removed]",
      "text/plain": [
       "<matplotlib.figure.Figure at 0x25feaae9e80>"
      ]
     },
     "metadata": {},
     "output_type": "display_data"
    }
   ],
   "source": [
    "# Comparing the value function at each step of the Every-Visit algorithm, with the ideal value function.\n",
    "plt.plot([compare_v_mse(ideal_v, actual_v) for actual_v in v_history])"
   ]
  },
  {
   "cell_type": "code",
   "execution_count": 33,
   "metadata": {},
   "outputs": [
    {
     "name": "stdout",
     "output_type": "stream",
     "text": [
      "  0.00 -20.03 -21.47 -21.97 \n",
      "-12.97 -21.62 -19.85 -21.70 \n",
      "-18.27 -19.97 -17.63 -13.30 \n",
      "-17.83 -19.34 -11.99   0.00 \n"
     ]
    }
   ],
   "source": [
    "mdp.print_value(v)"
   ]
  },
  {
   "cell_type": "code",
   "execution_count": 34,
   "metadata": {},
   "outputs": [
    {
     "name": "stdout",
     "output_type": "stream",
     "text": [
      "  UL    L    D    L \n",
      "   U    L    D    D \n",
      "   U    R    D    D \n",
      "  DL    R    R   DR \n"
     ]
    }
   ],
   "source": [
    "greedy_policy_from_v = make_greeedy_policy_from_v(v, mdp.states(), mdp.actions, mdp.transitions, mdp.gamma())\n",
    "mdp.print_policy(greedy_policy_from_v)"
   ]
  }
 ],
 "metadata": {
  "kernelspec": {
   "display_name": "Python 3",
   "language": "python",
   "name": "python3"
  },
  "language_info": {
   "codemirror_mode": {
    "name": "ipython",
    "version": 3
   },
   "file_extension": ".py",
   "mimetype": "text/x-python",
   "name": "python",
   "nbconvert_exporter": "python",
   "pygments_lexer": "ipython3",
   "version": "3.6.2"
  }
 },
 "nbformat": 4,
 "nbformat_minor": 2
}
