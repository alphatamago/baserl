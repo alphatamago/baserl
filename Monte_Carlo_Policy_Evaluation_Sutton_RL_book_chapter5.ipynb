{
 "cells": [
  {
   "cell_type": "markdown",
   "metadata": {},
   "source": [
    "This notebook is about the Monte-Carlo methods for policy evaluation (first-visit and every-visit), as described in Sutton's Reinforcement Learning book, 2nd edition, page 76."
   ]
  },
  {
   "cell_type": "code",
   "execution_count": 1,
   "metadata": {},
   "outputs": [],
   "source": [
    "import time\n",
    "\n",
    "import matplotlib.pyplot as plt\n",
    "\n",
    "from baserl.common import *\n",
    "from baserl.monte_carlo import *"
   ]
  },
  {
   "cell_type": "code",
   "execution_count": 2,
   "metadata": {},
   "outputs": [],
   "source": [
    "import time\n",
    "\n",
    "import matplotlib.pyplot as plt\n",
    "\n",
    "from baserl.common import *\n",
    "from baserl.monte_carlo import *"
   ]
  },
  {
   "cell_type": "code",
   "execution_count": 3,
   "metadata": {},
   "outputs": [],
   "source": [
    "%matplotlib inline"
   ]
  },
  {
   "cell_type": "code",
   "execution_count": 4,
   "metadata": {},
   "outputs": [],
   "source": [
    "from baserl.grid_world import GridWorld\n",
    "mdp = GridWorld()\n",
    "episode_generator = ModelBasedEpisodeGenerator(mdp.states(), mdp.is_terminal, mdp.actions,\n",
    "                                               mdp.transitions, \n",
    "                                               max_episode_len=100,\n",
    "                                               fixed_start_state=None,\n",
    "                                               with_exploring_starts=False,\n",
    "                                               verbose=False)"
   ]
  },
  {
   "cell_type": "code",
   "execution_count": 5,
   "metadata": {},
   "outputs": [
    {
     "name": "stdout",
     "output_type": "stream",
     "text": [
      "5 [((0, 3), 'L', -1), ((0, 2), 'R', -1), ((0, 3), 'L', -1), ((0, 2), 'L', -1), ((0, 1), 'L', -1)]\n"
     ]
    }
   ],
   "source": [
    "episode = episode_generator.generate(make_random_policy(mdp.states(), mdp.actions))\n",
    "print (len(episode), episode)"
   ]
  },
  {
   "cell_type": "code",
   "execution_count": 6,
   "metadata": {},
   "outputs": [],
   "source": [
    "# Compare with ideal value function, plot RMSE vs #episodes\n",
    "def compare_v_mse(ideal_v, actual_v):\n",
    "    sum_diffs = 0.0\n",
    "    num = 0\n",
    "    for k, val in ideal_v.items():\n",
    "        sum_diffs += (val - actual_v[k]) ** 2\n",
    "        num += 1\n",
    "    return sum_diffs / num\n",
    "\n",
    "# We know the ideal Value Function for the Grid World - this is mentioned in the end of Figure 4.1, page 62 of\n",
    "# Sutton's RL book. It can also be computed by running Iterative Policy Evaluation from chapter 4 for a longer time.\n",
    "ideal_v_mat = [\n",
    "[  0, -14, -20, -22], \n",
    "[-14, -18, -20, -20], \n",
    "[-20, -20, -18, -14], \n",
    "[-22, -20, -14,   0]\n",
    "]\n",
    "ideal_v = {}\n",
    "for x in range(len(ideal_v_mat)):\n",
    "    for y in range(len(ideal_v_mat[0])):\n",
    "        ideal_v[(x, y)] = ideal_v_mat[x][y]"
   ]
  },
  {
   "cell_type": "code",
   "execution_count": 7,
   "metadata": {},
   "outputs": [
    {
     "name": "stdout",
     "output_type": "stream",
     "text": [
      "0.04311418533325195\n"
     ]
    }
   ],
   "source": [
    "# First-visit\n",
    "policy = make_random_policy(mdp.states(), mdp.actions)\n",
    "start_time = time.time()\n",
    "v_history = []\n",
    "v = monte_carlo_policy_evaluation(every_visit=False,\n",
    "                                  policy=policy,\n",
    "                                  gamma=mdp.gamma(),\n",
    "                                  episode_generator=episode_generator,\n",
    "                                  num_episodes=100,\n",
    "                                  verbose=False,\n",
    "                                  v_history=v_history)\n",
    "print(time.time() - start_time)"
   ]
  },
  {
   "cell_type": "code",
   "execution_count": 8,
   "metadata": {},
   "outputs": [
    {
     "data": {
      "text/plain": [
       "[<matplotlib.lines.Line2D at 0x22bff82d5f8>]"
      ]
     },
     "execution_count": 8,
     "metadata": {},
     "output_type": "execute_result"
    },
    {
     "data": {
      "image/png": "[encoded data removed]",
      "text/plain": [
       "<matplotlib.figure.Figure at 0x22bff7d4630>"
      ]
     },
     "metadata": {},
     "output_type": "display_data"
    }
   ],
   "source": [
    "# Comparing the value function at each step of the First-Visit algorithm, with the ideal value function.\n",
    "plt.plot([compare_v_mse(ideal_v, actual_v) for actual_v in v_history])"
   ]
  },
  {
   "cell_type": "code",
   "execution_count": 9,
   "metadata": {},
   "outputs": [
    {
     "name": "stdout",
     "output_type": "stream",
     "text": [
      "  0.00 -13.35 -19.00 -24.11 \n",
      "-11.47 -14.53 -19.64 -22.12 \n",
      "-16.31 -17.22 -19.31 -16.03 \n",
      "-19.15 -19.13 -18.79   0.00 \n"
     ]
    }
   ],
   "source": [
    "mdp.print_value(v)"
   ]
  },
  {
   "cell_type": "code",
   "execution_count": 10,
   "metadata": {},
   "outputs": [
    {
     "name": "stdout",
     "output_type": "stream",
     "text": [
      "  UL    L    L    L \n",
      "   U    L    L    D \n",
      "   U    U    R    D \n",
      "   U    U    R   DR \n"
     ]
    }
   ],
   "source": [
    "greedy_policy_from_v = make_greeedy_policy_from_v(v, mdp.states(), mdp.actions, mdp.transitions, mdp.gamma())\n",
    "mdp.print_policy(greedy_policy_from_v)"
   ]
  },
  {
   "cell_type": "code",
   "execution_count": 11,
   "metadata": {},
   "outputs": [
    {
     "name": "stdout",
     "output_type": "stream",
     "text": [
      "0.0381007194519043\n"
     ]
    }
   ],
   "source": [
    "# Every visit\n",
    "policy = make_random_policy(mdp.states(), mdp.actions)\n",
    "start_time = time.time()\n",
    "v_history = []\n",
    "v = monte_carlo_policy_evaluation(every_visit=True,\n",
    "                                  policy=policy,\n",
    "                                  gamma=mdp.gamma(),\n",
    "                                  episode_generator=episode_generator,\n",
    "                                  num_episodes=100,\n",
    "                                  verbose=False,\n",
    "                                  v_history=v_history)\n",
    "print(time.time() - start_time)"
   ]
  },
  {
   "cell_type": "code",
   "execution_count": 12,
   "metadata": {},
   "outputs": [
    {
     "data": {
      "text/plain": [
       "[<matplotlib.lines.Line2D at 0x22bff8c5c88>]"
      ]
     },
     "execution_count": 12,
     "metadata": {},
     "output_type": "execute_result"
    },
    {
     "data": {
      "image/png": "[encoded data removed]",
      "text/plain": [
       "<matplotlib.figure.Figure at 0x22bff7d4278>"
      ]
     },
     "metadata": {},
     "output_type": "display_data"
    }
   ],
   "source": [
    "# Comparing the value function at each step of the Every-Visit algorithm, with the ideal value function.\n",
    "plt.plot([compare_v_mse(ideal_v, actual_v) for actual_v in v_history])"
   ]
  },
  {
   "cell_type": "code",
   "execution_count": 13,
   "metadata": {},
   "outputs": [
    {
     "name": "stdout",
     "output_type": "stream",
     "text": [
      "  0.00 -12.24 -15.82 -21.11 \n",
      "-16.10 -18.62 -18.47 -15.95 \n",
      "-17.73 -20.35 -16.38 -10.07 \n",
      "-16.90 -16.17 -12.68   0.00 \n"
     ]
    }
   ],
   "source": [
    "mdp.print_value(v)"
   ]
  },
  {
   "cell_type": "code",
   "execution_count": 14,
   "metadata": {},
   "outputs": [
    {
     "name": "stdout",
     "output_type": "stream",
     "text": [
      "  UL    L    L    L \n",
      "   U    U    U    D \n",
      "   U    D    R    D \n",
      "   R    R    R   DR \n"
     ]
    }
   ],
   "source": [
    "greedy_policy_from_v = make_greeedy_policy_from_v(v, mdp.states(), mdp.actions, mdp.transitions, mdp.gamma())\n",
    "mdp.print_policy(greedy_policy_from_v)"
   ]
  }
 ],
 "metadata": {
  "kernelspec": {
   "display_name": "Python 3",
   "language": "python",
   "name": "python3"
  },
  "language_info": {
   "codemirror_mode": {
    "name": "ipython",
    "version": 3
   },
   "file_extension": ".py",
   "mimetype": "text/x-python",
   "name": "python",
   "nbconvert_exporter": "python",
   "pygments_lexer": "ipython3",
   "version": "3.6.2"
  }
 },
 "nbformat": 4,
 "nbformat_minor": 2
}
