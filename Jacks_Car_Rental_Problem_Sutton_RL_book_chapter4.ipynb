{
 "cells": [
  {
   "cell_type": "markdown",
   "metadata": {},
   "source": [
    "This notebook is about Jack's Car Rental Problem, as described in Sutton's Reinforcement Learning book, 2nd edition, page 65.\n",
    "\n",
    "Here is a summary of the problem:\n",
    "\n",
    "Jack manages two locations for a nationwide car rental company.\n",
    "Each day, some number of customers arrive at each location to rent cars.\n",
    "If Jack has a car available, he rents it out and is credited \\$10 by the national company. If he is out of cars at that location, then the business is lost.\n",
    "Cars become available for renting the day after they are returned.\n",
    "To help ensure that cars are available where they are needed, Jack can move them between the two locations overnight, at a cost of \\$2 per car moved.\n",
    "We assume that the number of cars requested and returned at each location are Poisson random variables, wwhere the expected numbers are 3 and 4 for rental requests at the first and second locations and 3 and 2 for returns.\n",
    "\n",
    "To simplify the problem slightly, we assume that there can be no more than 20 cars at each location (any additional cars are returned to the nationwide company, and thus disappear from the problem) and a maximum of five cars can be moved from one location to the other in one night.\n",
    "\n",
    "We first apply Policy Iteration to this problem, as suggested in the book, and then also apply Value Iteration which achieves the same results much faster. "
   ]
  },
  {
   "cell_type": "code",
   "execution_count": 1,
   "metadata": {},
   "outputs": [],
   "source": [
    "import time\n",
    "\n",
    "import matplotlib.pyplot as plt\n",
    "\n",
    "from baserl.common import *\n",
    "from baserl.jacks_rental import JacksRental"
   ]
  },
  {
   "cell_type": "code",
   "execution_count": 2,
   "metadata": {},
   "outputs": [],
   "source": [
    "%matplotlib inline"
   ]
  },
  {
   "cell_type": "code",
   "execution_count": 3,
   "metadata": {},
   "outputs": [
    {
     "name": "stdout",
     "output_type": "stream",
     "text": [
      "iterative_policy_evaluation num_iter: 93\n",
      "mean value: 398.420303762\n",
      "states changed policy: 120\n",
      "iterative_policy_evaluation num_iter: 100\n",
      "mean value: 458.39322536\n",
      "states changed policy: 33\n",
      "iterative_policy_evaluation num_iter: 99\n",
      "mean value: 459.173934488\n",
      "states changed policy: 0\n",
      "value function at iteration 3\n"
     ]
    },
    {
     "data": {
      "image/png": "[encoded data removed]",
      "text/plain": [
       "<matplotlib.figure.Figure at 0x1e0261e80b8>"
      ]
     },
     "metadata": {},
     "output_type": "display_data"
    },
    {
     "name": "stdout",
     "output_type": "stream",
     "text": [
      "\n",
      "greedy policy at iteration 3\n",
      " 0  0  0  0  0  0  0 -1 -1 -2 \n",
      " 0  0  0  0  0  0  0  0 -1 -1 \n",
      " 0  0  0  0  0  0  0  0  0  0 \n",
      " 0  0  0  0  0  0  0  0  0  0 \n",
      " 1  1  1  0  0  0  0  0  0  0 \n",
      " 2  2  1  1  0  0  0  0  0  0 \n",
      " 3  2  2  1  1  0  0  0  0  0 \n",
      " 3  3  2  2  1  0  0  0  0  0 \n",
      " 4  3  3  2  1  0  0  0  0  0 \n",
      " 4  4  3  2  1  1  1  1  1  1 \n",
      "\n",
      "Done in time: 7.465210676193237\n"
     ]
    }
   ],
   "source": [
    "# Applying Policy Iteration to Jack's Car Rental problem \n",
    "mdp = JacksRental()\n",
    "start_time = time.time()\n",
    "v_history = []\n",
    "mdp_policy, mdp_v = policy_iteration(\n",
    "        states=mdp.states(),\n",
    "        is_terminal=mdp.is_terminal, \n",
    "        actions=mdp.actions,\n",
    "        transitions=mdp.transitions,\n",
    "        gamma=mdp.gamma(),\n",
    "        policy_evaluator=make_iterative_policy_evaluator(theta=0.000001, max_iter=100),\n",
    "        delta_policy_improv=0.000001,\n",
    "        max_iter_policy_improv=10,\n",
    "        print_value=mdp.print_value,\n",
    "        print_policy=mdp.print_policy)\n",
    "print(\"Done in time:\", time.time()-start_time)"
   ]
  },
  {
   "cell_type": "code",
   "execution_count": 4,
   "metadata": {},
   "outputs": [
    {
     "name": "stdout",
     "output_type": "stream",
     "text": [
      "delta at iteration: 1 260.957709341\n",
      "delta at iteration: 2 118.774453253\n",
      "delta at iteration: 3 61.2286458473\n",
      "delta at iteration: 4 48.6333258468\n",
      "delta at iteration: 5 39.7562303825\n",
      "delta at iteration: 6 32.0297231044\n",
      "delta at iteration: 7 25.9813828593\n",
      "delta at iteration: 8 21.4035136438\n",
      "delta at iteration: 9 17.7383722025\n",
      "delta at iteration: 10 14.6746149045\n",
      "delta at iteration: 11 12.1377099843\n",
      "delta at iteration: 12 10.0495683979\n",
      "delta at iteration: 13 8.32917343463\n",
      "delta at iteration: 14 6.9043118688\n",
      "delta at iteration: 15 5.7234199491\n",
      "delta at iteration: 16 4.74520625943\n",
      "delta at iteration: 17 3.9347550163\n",
      "delta at iteration: 18 3.2632045465\n",
      "delta at iteration: 19 2.70724553128\n",
      "delta at iteration: 20 2.24655174975\n",
      "delta at iteration: 21 1.86440926506\n",
      "delta at iteration: 22 1.5473015492\n",
      "delta at iteration: 23 1.28413450953\n",
      "delta at iteration: 24 1.0657284351\n",
      "delta at iteration: 25 0.88446948706\n",
      "delta at iteration: 26 0.734039346075\n",
      "delta at iteration: 27 0.609194444547\n",
      "delta at iteration: 28 0.505583147505\n",
      "delta at iteration: 29 0.419594009184\n",
      "delta at iteration: 30 0.348229851872\n",
      "delta at iteration: 31 0.289003275618\n",
      "delta at iteration: 32 0.239849926007\n",
      "delta at iteration: 33 0.199056543506\n",
      "delta at iteration: 34 0.165201260766\n",
      "delta at iteration: 35 0.137104046266\n",
      "delta at iteration: 36 0.113785571328\n",
      "delta at iteration: 37 0.0944330725843\n",
      "value function at iteration 37\n"
     ]
    },
    {
     "data": {
      "image/png": "[encoded data removed]",
      "text/plain": [
       "<matplotlib.figure.Figure at 0x1e028396198>"
      ]
     },
     "metadata": {},
     "output_type": "display_data"
    },
    {
     "name": "stdout",
     "output_type": "stream",
     "text": [
      "\n",
      "policy:\n",
      " 0  0  0  0  0  0  0 -1 -1 -2 \n",
      " 0  0  0  0  0  0  0  0 -1 -1 \n",
      " 0  0  0  0  0  0  0  0  0  0 \n",
      " 0  0  0  0  0  0  0  0  0  0 \n",
      " 1  1  1  0  0  0  0  0  0  0 \n",
      " 2  2  1  1  0  0  0  0  0  0 \n",
      " 3  2  2  1  1  0  0  0  0  0 \n",
      " 3  3  2  2  1  0  0  0  0  0 \n",
      " 4  3  3  2  1  0  0  0  0  0 \n",
      " 4  4  3  2  1  1  1  1  1  1 \n",
      "\n",
      "Done in time: 2.5931475162506104\n"
     ]
    }
   ],
   "source": [
    "# Applying Value Iteration to Jack's Car Rental problem.\n",
    "# We achieve the same results as with Policy Iteration, but a few times faster.\n",
    "mdp = JacksRental()\n",
    "start_time = time.time()\n",
    "v_history = []\n",
    "mdp_policy, mdp_v = value_iteration(\n",
    "        states=mdp.states(), \n",
    "        is_terminal=mdp.is_terminal, \n",
    "        actions=mdp.actions,\n",
    "        transitions=mdp.transitions,\n",
    "        gamma=mdp.gamma(),\n",
    "        delta_threshold=0.1,\n",
    "        max_iter=100,\n",
    "        print_value=mdp.print_value,\n",
    "        print_policy=mdp.print_policy)\n",
    "print(\"Done in time:\", time.time()-start_time)"
   ]
  },
  {
   "cell_type": "code",
   "execution_count": null,
   "metadata": {},
   "outputs": [],
   "source": []
  }
 ],
 "metadata": {
  "kernelspec": {
   "display_name": "Python 3",
   "language": "python",
   "name": "python3"
  },
  "language_info": {
   "codemirror_mode": {
    "name": "ipython",
    "version": 3
   },
   "file_extension": ".py",
   "mimetype": "text/x-python",
   "name": "python",
   "nbconvert_exporter": "python",
   "pygments_lexer": "ipython3",
   "version": "3.6.2"
  }
 },
 "nbformat": 4,
 "nbformat_minor": 2
}
